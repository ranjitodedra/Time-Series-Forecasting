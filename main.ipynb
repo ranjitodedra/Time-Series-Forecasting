{
  "metadata": {
    "kernelspec": {
      "language": "python",
      "display_name": "Python 3",
      "name": "python3"
    },
    "language_info": {
      "pygments_lexer": "ipython3",
      "nbconvert_exporter": "python",
      "version": "3.6.4",
      "file_extension": ".py",
      "codemirror_mode": {
        "name": "ipython",
        "version": 3
      },
      "name": "python",
      "mimetype": "text/x-python"
    },
    "colab": {
      "provenance": []
    }
  },
  "nbformat_minor": 0,
  "nbformat": 4,
  "cells": [
    {
      "cell_type": "code",
      "source": [
        "import numpy as np\n",
        "import pandas as pd\n",
        "import matplotlib.pyplot as plt\n",
        "plt.style.use(\"fivethirtyeight\")\n",
        "\n",
        "import os\n",
        "for dirname, _, filenames in os.walk('/kaggle/input'):\n",
        "    for filename in filenames:\n",
        "        print(os.path.join(dirname, filename))"
      ],
      "metadata": {
        "execution": {
          "iopub.status.busy": "2021-05-20T13:48:34.149445Z",
          "iopub.execute_input": "2021-05-20T13:48:34.150116Z",
          "iopub.status.idle": "2021-05-20T13:48:34.169052Z",
          "shell.execute_reply.started": "2021-05-20T13:48:34.149993Z",
          "shell.execute_reply": "2021-05-20T13:48:34.167994Z"
        },
        "trusted": true,
        "id": "AOFhyl-turFD"
      },
      "execution_count": null,
      "outputs": []
    },
    {
      "cell_type": "code",
      "source": [
        "df = pd.read_csv('/kaggle/input/time-series-forecasting-with-yahoo-stock-price/yahoo_stock.csv', parse_dates = ['Date'], index_col = 'Date')"
      ],
      "metadata": {
        "execution": {
          "iopub.status.busy": "2021-05-20T13:48:34.191102Z",
          "iopub.execute_input": "2021-05-20T13:48:34.19146Z",
          "iopub.status.idle": "2021-05-20T13:48:34.226607Z",
          "shell.execute_reply.started": "2021-05-20T13:48:34.19143Z",
          "shell.execute_reply": "2021-05-20T13:48:34.225621Z"
        },
        "trusted": true,
        "id": "Stn924wXurFG"
      },
      "execution_count": null,
      "outputs": []
    },
    {
      "cell_type": "code",
      "source": [
        "df.head()"
      ],
      "metadata": {
        "execution": {
          "iopub.status.busy": "2021-05-20T13:48:34.227919Z",
          "iopub.execute_input": "2021-05-20T13:48:34.228199Z",
          "iopub.status.idle": "2021-05-20T13:48:34.25487Z",
          "shell.execute_reply.started": "2021-05-20T13:48:34.22817Z",
          "shell.execute_reply": "2021-05-20T13:48:34.253895Z"
        },
        "trusted": true,
        "id": "aXqaYYFIurFH"
      },
      "execution_count": null,
      "outputs": []
    },
    {
      "cell_type": "code",
      "source": [
        "print(df.index.min())\n",
        "print(df.index.max())"
      ],
      "metadata": {
        "execution": {
          "iopub.status.busy": "2021-05-20T13:48:34.290043Z",
          "iopub.execute_input": "2021-05-20T13:48:34.290453Z",
          "iopub.status.idle": "2021-05-20T13:48:34.299395Z",
          "shell.execute_reply.started": "2021-05-20T13:48:34.290417Z",
          "shell.execute_reply": "2021-05-20T13:48:34.297319Z"
        },
        "trusted": true,
        "id": "OUOOXgvburFK"
      },
      "execution_count": null,
      "outputs": []
    },
    {
      "cell_type": "code",
      "source": [
        "df.shape"
      ],
      "metadata": {
        "execution": {
          "iopub.status.busy": "2021-05-20T13:48:34.40183Z",
          "iopub.execute_input": "2021-05-20T13:48:34.402193Z",
          "iopub.status.idle": "2021-05-20T13:48:34.407465Z",
          "shell.execute_reply.started": "2021-05-20T13:48:34.402162Z",
          "shell.execute_reply": "2021-05-20T13:48:34.406689Z"
        },
        "trusted": true,
        "id": "98ryJtlFurFM"
      },
      "execution_count": null,
      "outputs": []
    },
    {
      "cell_type": "code",
      "source": [
        "df[['High', 'Low']].plot(figsize = (15, 5), alpha = 0.5)"
      ],
      "metadata": {
        "execution": {
          "iopub.status.busy": "2021-05-20T13:48:34.408728Z",
          "iopub.execute_input": "2021-05-20T13:48:34.409147Z",
          "iopub.status.idle": "2021-05-20T13:48:34.793103Z",
          "shell.execute_reply.started": "2021-05-20T13:48:34.409117Z",
          "shell.execute_reply": "2021-05-20T13:48:34.792223Z"
        },
        "trusted": true,
        "id": "GtxTNXoburFO"
      },
      "execution_count": null,
      "outputs": []
    },
    {
      "cell_type": "code",
      "source": [
        "df[['Open', 'Close']].plot(figsize = (15, 5), alpha = 0.5)"
      ],
      "metadata": {
        "execution": {
          "iopub.status.busy": "2021-05-20T13:48:34.794896Z",
          "iopub.execute_input": "2021-05-20T13:48:34.795408Z",
          "iopub.status.idle": "2021-05-20T13:48:35.079775Z",
          "shell.execute_reply.started": "2021-05-20T13:48:34.795373Z",
          "shell.execute_reply": "2021-05-20T13:48:35.078947Z"
        },
        "trusted": true,
        "id": "1gTQDH6murFP"
      },
      "execution_count": null,
      "outputs": []
    },
    {
      "cell_type": "code",
      "source": [
        "from statsmodels.tsa.seasonal import seasonal_decompose\n",
        "def decompose(df, column_name):\n",
        "    \"\"\"\n",
        "    A function that returns the trend, seasonality and residual captured by applying both multiplicative and\n",
        "    additive model.\n",
        "    df -> DataFrame\n",
        "    column_name -> column_name for which trend, seasonality is to be captured\n",
        "    \"\"\"\n",
        "    result_mul = seasonal_decompose(df[column_name], model='multiplicative', extrapolate_trend = 'freq')\n",
        "    result_add = seasonal_decompose(df[column_name], model = 'additive', extrapolate_trend='freq')\n",
        "\n",
        "    plt.rcParams.update({'figure.figsize': (20, 10)})\n",
        "    result_mul.plot().suptitle('Multiplicative Decompose', fontsize=30)\n",
        "    result_add.plot().suptitle('Additive Decompose', fontsize=30)\n",
        "    plt.show()\n",
        "\n",
        "    return result_mul, result_add"
      ],
      "metadata": {
        "execution": {
          "iopub.status.busy": "2021-05-20T13:48:35.081301Z",
          "iopub.execute_input": "2021-05-20T13:48:35.081907Z",
          "iopub.status.idle": "2021-05-20T13:48:36.016002Z",
          "shell.execute_reply.started": "2021-05-20T13:48:35.081869Z",
          "shell.execute_reply": "2021-05-20T13:48:36.015182Z"
        },
        "trusted": true,
        "id": "0iC-coMMurFS"
      },
      "execution_count": null,
      "outputs": []
    },
    {
      "cell_type": "code",
      "source": [
        "result_mul, result_add = decompose(df, 'Open')"
      ],
      "metadata": {
        "execution": {
          "iopub.status.busy": "2021-05-20T13:48:36.017222Z",
          "iopub.execute_input": "2021-05-20T13:48:36.017732Z",
          "iopub.status.idle": "2021-05-20T13:48:38.229748Z",
          "shell.execute_reply.started": "2021-05-20T13:48:36.017699Z",
          "shell.execute_reply": "2021-05-20T13:48:38.228877Z"
        },
        "trusted": true,
        "id": "x7FL9tPOurFU"
      },
      "execution_count": null,
      "outputs": []
    },
    {
      "cell_type": "code",
      "source": [
        "df_reconstructed = pd.concat([result_add.seasonal, result_add.trend, result_add.resid, result_add.observed], axis = 1)\n",
        "df_reconstructed.columns = ['seas', 'trend', 'resid', 'actual_values']\n",
        "df_reconstructed"
      ],
      "metadata": {
        "execution": {
          "iopub.status.busy": "2021-05-20T13:48:38.230992Z",
          "iopub.execute_input": "2021-05-20T13:48:38.23152Z",
          "iopub.status.idle": "2021-05-20T13:48:38.25011Z",
          "shell.execute_reply.started": "2021-05-20T13:48:38.231484Z",
          "shell.execute_reply": "2021-05-20T13:48:38.249059Z"
        },
        "trusted": true,
        "id": "tIZBNljRurFW"
      },
      "execution_count": null,
      "outputs": []
    },
    {
      "cell_type": "code",
      "source": [
        "result_mul, result_add = decompose(df, 'Close')"
      ],
      "metadata": {
        "execution": {
          "iopub.status.busy": "2021-05-20T13:48:38.251531Z",
          "iopub.execute_input": "2021-05-20T13:48:38.251884Z",
          "iopub.status.idle": "2021-05-20T13:48:40.345354Z",
          "shell.execute_reply.started": "2021-05-20T13:48:38.251852Z",
          "shell.execute_reply": "2021-05-20T13:48:40.341665Z"
        },
        "trusted": true,
        "id": "lVDByEmPurFY"
      },
      "execution_count": null,
      "outputs": []
    },
    {
      "cell_type": "code",
      "source": [
        "df_reconstructed = pd.concat([result_add.seasonal, result_add.trend, result_add.resid, result_add.observed], axis = 1)\n",
        "df_reconstructed.columns = ['seas', 'trend', 'resid', 'actual_values']\n",
        "df_reconstructed"
      ],
      "metadata": {
        "execution": {
          "iopub.status.busy": "2021-05-20T13:48:40.34708Z",
          "iopub.execute_input": "2021-05-20T13:48:40.347554Z",
          "iopub.status.idle": "2021-05-20T13:48:40.368485Z",
          "shell.execute_reply.started": "2021-05-20T13:48:40.347504Z",
          "shell.execute_reply": "2021-05-20T13:48:40.367328Z"
        },
        "trusted": true,
        "id": "p066UWSxurFZ"
      },
      "execution_count": null,
      "outputs": []
    },
    {
      "cell_type": "code",
      "source": [
        "result_mul, result_add = decompose(df, 'High')"
      ],
      "metadata": {
        "execution": {
          "iopub.status.busy": "2021-05-20T13:48:40.372157Z",
          "iopub.execute_input": "2021-05-20T13:48:40.372931Z",
          "iopub.status.idle": "2021-05-20T13:48:42.474236Z",
          "shell.execute_reply.started": "2021-05-20T13:48:40.372884Z",
          "shell.execute_reply": "2021-05-20T13:48:42.473101Z"
        },
        "trusted": true,
        "id": "hVdGN__BurFa"
      },
      "execution_count": null,
      "outputs": []
    },
    {
      "cell_type": "code",
      "source": [
        "df_reconstructed = pd.concat([result_add.seasonal, result_add.trend, result_add.resid, result_add.observed], axis = 1)\n",
        "df_reconstructed.columns = ['seas', 'trend', 'resid', 'actual_values']\n",
        "df_reconstructed"
      ],
      "metadata": {
        "execution": {
          "iopub.status.busy": "2021-05-20T13:48:42.475951Z",
          "iopub.execute_input": "2021-05-20T13:48:42.476269Z",
          "iopub.status.idle": "2021-05-20T13:48:42.500053Z",
          "shell.execute_reply.started": "2021-05-20T13:48:42.476236Z",
          "shell.execute_reply": "2021-05-20T13:48:42.499041Z"
        },
        "trusted": true,
        "id": "UeK8McmIurFb"
      },
      "execution_count": null,
      "outputs": []
    },
    {
      "cell_type": "code",
      "source": [
        "result_mul, result_add = decompose(df, 'Low')"
      ],
      "metadata": {
        "execution": {
          "iopub.status.busy": "2021-05-20T13:48:42.501414Z",
          "iopub.execute_input": "2021-05-20T13:48:42.501756Z",
          "iopub.status.idle": "2021-05-20T13:48:44.751747Z",
          "shell.execute_reply.started": "2021-05-20T13:48:42.501725Z",
          "shell.execute_reply": "2021-05-20T13:48:44.750609Z"
        },
        "trusted": true,
        "id": "MHQ5LAlGurFc"
      },
      "execution_count": null,
      "outputs": []
    },
    {
      "cell_type": "code",
      "source": [
        "df_reconstructed = pd.concat([result_add.seasonal, result_add.trend, result_add.resid, result_add.observed], axis = 1)\n",
        "df_reconstructed.columns = ['seas', 'trend', 'resid', 'actual_values']\n",
        "df_reconstructed"
      ],
      "metadata": {
        "execution": {
          "iopub.status.busy": "2021-05-20T13:48:44.753437Z",
          "iopub.execute_input": "2021-05-20T13:48:44.753942Z",
          "iopub.status.idle": "2021-05-20T13:48:44.77712Z",
          "shell.execute_reply.started": "2021-05-20T13:48:44.753892Z",
          "shell.execute_reply": "2021-05-20T13:48:44.775986Z"
        },
        "trusted": true,
        "id": "k6k8zaK2urFd"
      },
      "execution_count": null,
      "outputs": []
    }
  ]
}